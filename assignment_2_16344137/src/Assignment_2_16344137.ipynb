{
  "nbformat": 4,
  "nbformat_minor": 0,
  "metadata": {
    "colab": {
      "provenance": []
    },
    "kernelspec": {
      "name": "python3",
      "display_name": "Python 3"
    },
    "language_info": {
      "name": "python"
    }
  },
  "cells": [
    {
      "cell_type": "code",
      "execution_count": 45,
      "metadata": {
        "colab": {
          "base_uri": "https://localhost:8080/"
        },
        "id": "2jEVkFaWfMB9",
        "outputId": "2aa42fd6-a5d3-4c53-86b5-a0bc7001ba89"
      },
      "outputs": [
        {
          "output_type": "stream",
          "name": "stdout",
          "text": [
            "(5847, 14)\n"
          ]
        }
      ],
      "source": [
        "# prompt: read csv\n",
        "\n",
        "import pandas as pd\n",
        "\n",
        "df = pd.read_csv('https://raw.githubusercontent.com/Likhitha02-tech/PDS/refs/heads/main/data_set/train.csv')\n",
        "print(df.shape)"
      ]
    },
    {
      "cell_type": "markdown",
      "source": [
        "\n",
        "a)  Look for the missing values in all the columns and either impute them (replace with mean, median, or mode) or drop them. Justify your action for this task.     (4 points)"
      ],
      "metadata": {
        "id": "VnUvun_woaPf"
      }
    },
    {
      "cell_type": "code",
      "source": [
        "# Drop the 'New_Price' column due to a large number of missing values.\n",
        "df = df.drop('New_Price', axis=1)\n",
        "\n",
        "# Iterate through the remaining columns and impute or drop missing values.\n",
        "for col in df.columns:\n",
        "    if df[col].isnull().any():\n",
        "        if df[col].dtype == 'object':  # Categorical columns\n",
        "            df[col] = df[col].fillna(df[col].mode()[0]) # Impute with mode for categorical\n",
        "        else:  # Numerical columns\n",
        "            df[col] = df[col].fillna(df[col].mean())  # Impute with mean for numerical\n",
        "\n",
        "print(df.head())\n",
        "df.to_csv('clean_train.csv', index=False)\n"
      ],
      "metadata": {
        "colab": {
          "base_uri": "https://localhost:8080/"
        },
        "id": "5rywXYfAjCuJ",
        "outputId": "905effa6-0594-44ac-82fd-f644b09c226e"
      },
      "execution_count": 46,
      "outputs": [
        {
          "output_type": "stream",
          "name": "stdout",
          "text": [
            "   Unnamed: 0                              Name    Location  Year  \\\n",
            "0           1  Hyundai Creta 1.6 CRDi SX Option        Pune  2015   \n",
            "1           2                      Honda Jazz V     Chennai  2011   \n",
            "2           3                 Maruti Ertiga VDI     Chennai  2012   \n",
            "3           4   Audi A4 New 2.0 TDI Multitronic  Coimbatore  2013   \n",
            "4           6            Nissan Micra Diesel XV      Jaipur  2013   \n",
            "\n",
            "   Kilometers_Driven Fuel_Type Transmission Owner_Type     Mileage   Engine  \\\n",
            "0              41000    Diesel       Manual      First  19.67 kmpl  1582 CC   \n",
            "1              46000    Petrol       Manual      First    13 km/kg  1199 CC   \n",
            "2              87000    Diesel       Manual      First  20.77 kmpl  1248 CC   \n",
            "3              40670    Diesel    Automatic     Second   15.2 kmpl  1968 CC   \n",
            "4              86999    Diesel       Manual      First  23.08 kmpl  1461 CC   \n",
            "\n",
            "       Power  Seats  Price  \n",
            "0  126.2 bhp    5.0  12.50  \n",
            "1   88.7 bhp    5.0   4.50  \n",
            "2  88.76 bhp    7.0   6.00  \n",
            "3  140.8 bhp    5.0  17.74  \n",
            "4   63.1 bhp    5.0   3.50  \n"
          ]
        }
      ]
    },
    {
      "cell_type": "markdown",
      "source": [
        "b) Remove the units from some of the attributes and only keep the numerical values (for example remove kmpl from “Mileage”, CC from “Engine”, bhp from “Power”, and lakh from “New_price”). (4 points)"
      ],
      "metadata": {
        "id": "Z2yu_8hhoY52"
      }
    },
    {
      "cell_type": "code",
      "source": [
        "# Remove units from specified columns\n",
        "for col in ['Mileage', 'Engine', 'Power']:\n",
        "    df[col] = df[col].astype(str).str.extract('(\\d+\\.?\\d*)').astype(float)\n",
        "df.to_csv('removingUnit_train.csv', index=False)\n"
      ],
      "metadata": {
        "id": "fsBCm4aLopC_"
      },
      "execution_count": 47,
      "outputs": []
    },
    {
      "cell_type": "code",
      "source": [
        "print(df.head())\n"
      ],
      "metadata": {
        "colab": {
          "base_uri": "https://localhost:8080/"
        },
        "id": "wG6n1PfFpLWW",
        "outputId": "b197146b-84d0-45f2-f0e6-65e31c16b200"
      },
      "execution_count": 48,
      "outputs": [
        {
          "output_type": "stream",
          "name": "stdout",
          "text": [
            "   Unnamed: 0                              Name    Location  Year  \\\n",
            "0           1  Hyundai Creta 1.6 CRDi SX Option        Pune  2015   \n",
            "1           2                      Honda Jazz V     Chennai  2011   \n",
            "2           3                 Maruti Ertiga VDI     Chennai  2012   \n",
            "3           4   Audi A4 New 2.0 TDI Multitronic  Coimbatore  2013   \n",
            "4           6            Nissan Micra Diesel XV      Jaipur  2013   \n",
            "\n",
            "   Kilometers_Driven Fuel_Type Transmission Owner_Type  Mileage  Engine  \\\n",
            "0              41000    Diesel       Manual      First    19.67  1582.0   \n",
            "1              46000    Petrol       Manual      First    13.00  1199.0   \n",
            "2              87000    Diesel       Manual      First    20.77  1248.0   \n",
            "3              40670    Diesel    Automatic     Second    15.20  1968.0   \n",
            "4              86999    Diesel       Manual      First    23.08  1461.0   \n",
            "\n",
            "    Power  Seats  Price  \n",
            "0  126.20    5.0  12.50  \n",
            "1   88.70    5.0   4.50  \n",
            "2   88.76    7.0   6.00  \n",
            "3  140.80    5.0  17.74  \n",
            "4   63.10    5.0   3.50  \n"
          ]
        }
      ]
    },
    {
      "cell_type": "markdown",
      "source": [
        "C) Change the categorical variables (“Fuel_Type” and “Transmission”) into numerical one hot encoded value.  (4 points).  "
      ],
      "metadata": {
        "id": "1qeA-p74pcWP"
      }
    },
    {
      "cell_type": "code",
      "source": [
        "# Perform one-hot encoding on 'Fuel_Type' and 'Transmission'\n",
        "df = pd.get_dummies(df, columns=['Fuel_Type', 'Transmission'], drop_first=True)\n",
        "\n",
        "# Display the first few rows of the modified DataFrame\n",
        "print(df.head())\n",
        "\n",
        "# Save the updated DataFrame to a new CSV file\n",
        "df.to_csv('onehot_encoded_train.csv', index=False)"
      ],
      "metadata": {
        "colab": {
          "base_uri": "https://localhost:8080/"
        },
        "id": "Riz8dXorpbqo",
        "outputId": "164de2c1-23c8-4d74-d7ad-f4becbc96822"
      },
      "execution_count": 49,
      "outputs": [
        {
          "output_type": "stream",
          "name": "stdout",
          "text": [
            "   Unnamed: 0                              Name    Location  Year  \\\n",
            "0           1  Hyundai Creta 1.6 CRDi SX Option        Pune  2015   \n",
            "1           2                      Honda Jazz V     Chennai  2011   \n",
            "2           3                 Maruti Ertiga VDI     Chennai  2012   \n",
            "3           4   Audi A4 New 2.0 TDI Multitronic  Coimbatore  2013   \n",
            "4           6            Nissan Micra Diesel XV      Jaipur  2013   \n",
            "\n",
            "   Kilometers_Driven Owner_Type  Mileage  Engine   Power  Seats  Price  \\\n",
            "0              41000      First    19.67  1582.0  126.20    5.0  12.50   \n",
            "1              46000      First    13.00  1199.0   88.70    5.0   4.50   \n",
            "2              87000      First    20.77  1248.0   88.76    7.0   6.00   \n",
            "3              40670     Second    15.20  1968.0  140.80    5.0  17.74   \n",
            "4              86999      First    23.08  1461.0   63.10    5.0   3.50   \n",
            "\n",
            "   Fuel_Type_Electric  Fuel_Type_Petrol  Transmission_Manual  \n",
            "0               False             False                 True  \n",
            "1               False              True                 True  \n",
            "2               False             False                 True  \n",
            "3               False             False                False  \n",
            "4               False             False                 True  \n"
          ]
        }
      ]
    },
    {
      "cell_type": "code",
      "source": [
        "# Calculate the current age of the car\n",
        "current_year = 2024  # Replace with the current year\n",
        "df['Car_Age'] = current_year - df['Year']\n",
        "\n",
        "# Display the first few rows of the DataFrame with the new feature\n",
        "print(df.head())\n",
        "\n",
        "# Save the updated DataFrame to a new CSV file\n",
        "df.to_csv('Car_Age_train.csv', index=False)"
      ],
      "metadata": {
        "colab": {
          "base_uri": "https://localhost:8080/"
        },
        "id": "lZxhzah7ppq_",
        "outputId": "17eb314c-ddde-4a28-cf43-8d6006626765"
      },
      "execution_count": 50,
      "outputs": [
        {
          "output_type": "stream",
          "name": "stdout",
          "text": [
            "   Unnamed: 0                              Name    Location  Year  \\\n",
            "0           1  Hyundai Creta 1.6 CRDi SX Option        Pune  2015   \n",
            "1           2                      Honda Jazz V     Chennai  2011   \n",
            "2           3                 Maruti Ertiga VDI     Chennai  2012   \n",
            "3           4   Audi A4 New 2.0 TDI Multitronic  Coimbatore  2013   \n",
            "4           6            Nissan Micra Diesel XV      Jaipur  2013   \n",
            "\n",
            "   Kilometers_Driven Owner_Type  Mileage  Engine   Power  Seats  Price  \\\n",
            "0              41000      First    19.67  1582.0  126.20    5.0  12.50   \n",
            "1              46000      First    13.00  1199.0   88.70    5.0   4.50   \n",
            "2              87000      First    20.77  1248.0   88.76    7.0   6.00   \n",
            "3              40670     Second    15.20  1968.0  140.80    5.0  17.74   \n",
            "4              86999      First    23.08  1461.0   63.10    5.0   3.50   \n",
            "\n",
            "   Fuel_Type_Electric  Fuel_Type_Petrol  Transmission_Manual  Car_Age  \n",
            "0               False             False                 True        9  \n",
            "1               False              True                 True       13  \n",
            "2               False             False                 True       12  \n",
            "3               False             False                False       11  \n",
            "4               False             False                 True       11  \n"
          ]
        }
      ]
    },
    {
      "cell_type": "markdown",
      "source": [
        "e) Perform select, filter, rename, mutate, arrange and summarize with group by operations (or their equivalent operations in python) on this dataset. (4 points)  "
      ],
      "metadata": {
        "id": "RWhno-AGquJw"
      }
    },
    {
      "cell_type": "code",
      "source": [
        "# Select specific columns\n",
        "selected_df = df[['Name', 'Location', 'Year', 'Kilometers_Driven', 'Fuel_Type_Petrol', 'Transmission_Manual', 'Price']]\n",
        "\n",
        "# Filter rows based on a condition\n",
        "filtered_df = selected_df[(selected_df['Year'] > 2015) & (selected_df['Kilometers_Driven'] < 100000)]\n",
        "\n",
        "# Rename columns\n",
        "renamed_df = filtered_df.rename(columns={'Name': 'Car_Name', 'Kilometers_Driven': 'Mileage'})\n",
        "\n",
        "# Mutate (add a new column)\n",
        "renamed_df['Price_in_lakhs'] = renamed_df['Price'] / 100000  # Assuming Price is in rupees\n",
        "\n",
        "# Arrange (sort)\n",
        "arranged_df = renamed_df.sort_values(by=['Year', 'Price'], ascending=[False, True])\n",
        "\n",
        "# Summarize with group by\n",
        "summary_df = arranged_df.groupby('Location')['Price_in_lakhs'].agg(['mean', 'median', 'count'])\n",
        "\n",
        "# Display and save the results\n",
        "print(summary_df)\n",
        "summary_df.to_csv('summary_train.csv')"
      ],
      "metadata": {
        "colab": {
          "base_uri": "https://localhost:8080/"
        },
        "id": "f0ZgS9TGqniX",
        "outputId": "793615ae-ce3f-4950-8135-d7b4bb3dfe3a"
      },
      "execution_count": 51,
      "outputs": [
        {
          "output_type": "stream",
          "name": "stdout",
          "text": [
            "                mean    median  count\n",
            "Location                             \n",
            "Ahmedabad   0.000116  0.000080     49\n",
            "Bangalore   0.000191  0.000115     53\n",
            "Chennai     0.000130  0.000073     93\n",
            "Coimbatore  0.000184  0.000104    361\n",
            "Delhi       0.000148  0.000080    102\n",
            "Hyderabad   0.000134  0.000084    144\n",
            "Jaipur      0.000082  0.000063     92\n",
            "Kochi       0.000130  0.000079    363\n",
            "Kolkata     0.000073  0.000050     95\n",
            "Mumbai      0.000133  0.000082    208\n",
            "Pune        0.000101  0.000070    116\n"
          ]
        }
      ]
    }
  ]
}